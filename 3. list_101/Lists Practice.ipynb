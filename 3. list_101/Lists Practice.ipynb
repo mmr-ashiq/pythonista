{
 "cells": [
  {
   "cell_type": "markdown",
   "id": "ac934d59",
   "metadata": {},
   "source": [
    "# Create a List"
   ]
  },
  {
   "cell_type": "code",
   "execution_count": 1,
   "id": "e3aa6770",
   "metadata": {},
   "outputs": [],
   "source": [
    "li = []"
   ]
  },
  {
   "cell_type": "code",
   "execution_count": 2,
   "id": "50161f31",
   "metadata": {},
   "outputs": [],
   "source": [
    "li = [1, 2, 3]"
   ]
  },
  {
   "cell_type": "code",
   "execution_count": 3,
   "id": "a8afccbb",
   "metadata": {},
   "outputs": [
    {
     "data": {
      "text/plain": [
       "list"
      ]
     },
     "execution_count": 3,
     "metadata": {},
     "output_type": "execute_result"
    }
   ],
   "source": [
    "type(li)"
   ]
  },
  {
   "cell_type": "code",
   "execution_count": 4,
   "id": "ab10179d",
   "metadata": {},
   "outputs": [
    {
     "name": "stdout",
     "output_type": "stream",
     "text": [
      "[1, 2, 3]\n"
     ]
    }
   ],
   "source": [
    "print(li)"
   ]
  },
  {
   "cell_type": "code",
   "execution_count": 5,
   "id": "5b2d8d04",
   "metadata": {},
   "outputs": [],
   "source": [
    "li = [1, 2.4, 'Ashiq', 5]"
   ]
  },
  {
   "cell_type": "code",
   "execution_count": 6,
   "id": "4618c7b7",
   "metadata": {},
   "outputs": [
    {
     "data": {
      "text/plain": [
       "[1, 2.4, 'Ashiq', 5]"
      ]
     },
     "execution_count": 6,
     "metadata": {},
     "output_type": "execute_result"
    }
   ],
   "source": [
    "li"
   ]
  },
  {
   "cell_type": "markdown",
   "id": "e3581010",
   "metadata": {},
   "source": [
    "# Access and change elements in List"
   ]
  },
  {
   "cell_type": "code",
   "execution_count": 7,
   "id": "6123b798",
   "metadata": {},
   "outputs": [
    {
     "data": {
      "text/plain": [
       "'Ashiq'"
      ]
     },
     "execution_count": 7,
     "metadata": {},
     "output_type": "execute_result"
    }
   ],
   "source": [
    "li[2]"
   ]
  },
  {
   "cell_type": "code",
   "execution_count": 8,
   "id": "b2e2493b",
   "metadata": {},
   "outputs": [
    {
     "ename": "IndexError",
     "evalue": "list index out of range",
     "output_type": "error",
     "traceback": [
      "\u001b[1;31m---------------------------------------------------------------------------\u001b[0m",
      "\u001b[1;31mIndexError\u001b[0m                                Traceback (most recent call last)",
      "\u001b[1;32m~\\AppData\\Local\\Temp/ipykernel_4752/2050452619.py\u001b[0m in \u001b[0;36m<module>\u001b[1;34m\u001b[0m\n\u001b[1;32m----> 1\u001b[1;33m \u001b[0mli\u001b[0m\u001b[1;33m[\u001b[0m\u001b[1;36m4\u001b[0m\u001b[1;33m]\u001b[0m\u001b[1;33m\u001b[0m\u001b[1;33m\u001b[0m\u001b[0m\n\u001b[0m",
      "\u001b[1;31mIndexError\u001b[0m: list index out of range"
     ]
    }
   ],
   "source": [
    "li[4]"
   ]
  },
  {
   "cell_type": "code",
   "execution_count": 9,
   "id": "507324af",
   "metadata": {},
   "outputs": [
    {
     "ename": "IndexError",
     "evalue": "list assignment index out of range",
     "output_type": "error",
     "traceback": [
      "\u001b[1;31m---------------------------------------------------------------------------\u001b[0m",
      "\u001b[1;31mIndexError\u001b[0m                                Traceback (most recent call last)",
      "\u001b[1;32m~\\AppData\\Local\\Temp/ipykernel_4752/712062806.py\u001b[0m in \u001b[0;36m<module>\u001b[1;34m\u001b[0m\n\u001b[1;32m----> 1\u001b[1;33m \u001b[0mli\u001b[0m\u001b[1;33m[\u001b[0m\u001b[1;36m4\u001b[0m\u001b[1;33m]\u001b[0m \u001b[1;33m=\u001b[0m \u001b[1;33m[\u001b[0m\u001b[1;34m'the boss'\u001b[0m\u001b[1;33m]\u001b[0m\u001b[1;33m\u001b[0m\u001b[1;33m\u001b[0m\u001b[0m\n\u001b[0m",
      "\u001b[1;31mIndexError\u001b[0m: list assignment index out of range"
     ]
    }
   ],
   "source": [
    "li[4] = ['the boss']"
   ]
  },
  {
   "cell_type": "code",
   "execution_count": 10,
   "id": "8cf3a65c",
   "metadata": {},
   "outputs": [],
   "source": [
    "li[3] = ['Software Engineer']"
   ]
  },
  {
   "cell_type": "code",
   "execution_count": 11,
   "id": "d24e573d",
   "metadata": {},
   "outputs": [
    {
     "data": {
      "text/plain": [
       "[1, 2.4, 'Ashiq', ['Software Engineer']]"
      ]
     },
     "execution_count": 11,
     "metadata": {},
     "output_type": "execute_result"
    }
   ],
   "source": [
    "li"
   ]
  },
  {
   "cell_type": "code",
   "execution_count": 12,
   "id": "6ed68950",
   "metadata": {},
   "outputs": [],
   "source": [
    "li[3] = 'Arya Starc'"
   ]
  },
  {
   "cell_type": "code",
   "execution_count": 13,
   "id": "c61b0995",
   "metadata": {},
   "outputs": [
    {
     "data": {
      "text/plain": [
       "[1, 2.4, 'Ashiq', 'Arya Starc']"
      ]
     },
     "execution_count": 13,
     "metadata": {},
     "output_type": "execute_result"
    }
   ],
   "source": [
    "li"
   ]
  },
  {
   "cell_type": "markdown",
   "id": "4738627c",
   "metadata": {},
   "source": [
    "# Slicing of a List"
   ]
  },
  {
   "cell_type": "code",
   "execution_count": 16,
   "id": "65574ac0",
   "metadata": {},
   "outputs": [
    {
     "data": {
      "text/plain": [
       "[2.4, 'Ashiq']"
      ]
     },
     "execution_count": 16,
     "metadata": {},
     "output_type": "execute_result"
    }
   ],
   "source": [
    "li[1:3]"
   ]
  },
  {
   "cell_type": "code",
   "execution_count": 17,
   "id": "5dd49ca0",
   "metadata": {},
   "outputs": [
    {
     "data": {
      "text/plain": [
       "[2.4, 'Ashiq', 'Arya Starc']"
      ]
     },
     "execution_count": 17,
     "metadata": {},
     "output_type": "execute_result"
    }
   ],
   "source": [
    "li[1:]"
   ]
  },
  {
   "cell_type": "code",
   "execution_count": 18,
   "id": "6870db1b",
   "metadata": {},
   "outputs": [
    {
     "data": {
      "text/plain": [
       "[1, 2.4, 'Ashiq', 'Arya Starc']"
      ]
     },
     "execution_count": 18,
     "metadata": {},
     "output_type": "execute_result"
    }
   ],
   "source": [
    "li[:]"
   ]
  },
  {
   "cell_type": "code",
   "execution_count": 19,
   "id": "426fe8f4",
   "metadata": {},
   "outputs": [
    {
     "data": {
      "text/plain": [
       "[2.4, 'Ashiq', 'Arya Starc']"
      ]
     },
     "execution_count": 19,
     "metadata": {},
     "output_type": "execute_result"
    }
   ],
   "source": [
    "li[1:10]"
   ]
  },
  {
   "cell_type": "markdown",
   "id": "bddd7201",
   "metadata": {},
   "source": [
    "# Insert and Append elements in List"
   ]
  },
  {
   "cell_type": "code",
   "execution_count": 20,
   "id": "25e84cd4",
   "metadata": {},
   "outputs": [],
   "source": [
    "li.append('Jhon Cena')"
   ]
  },
  {
   "cell_type": "code",
   "execution_count": 21,
   "id": "64297301",
   "metadata": {},
   "outputs": [
    {
     "data": {
      "text/plain": [
       "[1, 2.4, 'Ashiq', 'Arya Starc', 'Jhon Cena']"
      ]
     },
     "execution_count": 21,
     "metadata": {},
     "output_type": "execute_result"
    }
   ],
   "source": [
    "li"
   ]
  },
  {
   "cell_type": "code",
   "execution_count": 22,
   "id": "7bbb8e4b",
   "metadata": {},
   "outputs": [],
   "source": [
    "li.insert(1, 'Blackpink')"
   ]
  },
  {
   "cell_type": "code",
   "execution_count": 23,
   "id": "132d8ffd",
   "metadata": {},
   "outputs": [
    {
     "data": {
      "text/plain": [
       "[1, 'Blackpink', 2.4, 'Ashiq', 'Arya Starc', 'Jhon Cena']"
      ]
     },
     "execution_count": 23,
     "metadata": {},
     "output_type": "execute_result"
    }
   ],
   "source": [
    "li"
   ]
  },
  {
   "cell_type": "code",
   "execution_count": 24,
   "id": "d41d9ca0",
   "metadata": {},
   "outputs": [],
   "source": [
    "li.insert(2, 9)"
   ]
  },
  {
   "cell_type": "code",
   "execution_count": 26,
   "id": "726ed927",
   "metadata": {},
   "outputs": [
    {
     "data": {
      "text/plain": [
       "[1, 'Blackpink', 9, 2.4, 'Ashiq', 'Arya Starc', 'Jhon Cena']"
      ]
     },
     "execution_count": 26,
     "metadata": {},
     "output_type": "execute_result"
    }
   ],
   "source": [
    "li"
   ]
  },
  {
   "cell_type": "code",
   "execution_count": 27,
   "id": "2dfe5b4d",
   "metadata": {
    "scrolled": true
   },
   "outputs": [
    {
     "data": {
      "text/plain": [
       "[1, 'Blackpink', 9, 2.4, 'Ashiq', 'Arya Starc', 'Jhon Cena']"
      ]
     },
     "execution_count": 27,
     "metadata": {},
     "output_type": "execute_result"
    }
   ],
   "source": [
    "li"
   ]
  },
  {
   "cell_type": "code",
   "execution_count": 28,
   "id": "2949df5e",
   "metadata": {},
   "outputs": [
    {
     "data": {
      "text/plain": [
       "[1, 'Blackpink', 9, 2.4, 'Ashiq', 'Arya Starc', 'Jhon Cena']"
      ]
     },
     "execution_count": 28,
     "metadata": {},
     "output_type": "execute_result"
    }
   ],
   "source": [
    "li"
   ]
  },
  {
   "cell_type": "code",
   "execution_count": 30,
   "id": "3d6b7cb7",
   "metadata": {},
   "outputs": [],
   "source": [
    "li.append([9,10,11])"
   ]
  },
  {
   "cell_type": "code",
   "execution_count": 31,
   "id": "72fd84bf",
   "metadata": {},
   "outputs": [
    {
     "data": {
      "text/plain": [
       "[1, 'Blackpink', 9, 2.4, 'Ashiq', 'Arya Starc', 'Jhon Cena', [9, 10, 11]]"
      ]
     },
     "execution_count": 31,
     "metadata": {},
     "output_type": "execute_result"
    }
   ],
   "source": [
    "li"
   ]
  },
  {
   "cell_type": "code",
   "execution_count": 32,
   "id": "c4098413",
   "metadata": {},
   "outputs": [],
   "source": [
    "li.extend([9,10,11])"
   ]
  },
  {
   "cell_type": "code",
   "execution_count": 33,
   "id": "5829288e",
   "metadata": {},
   "outputs": [
    {
     "data": {
      "text/plain": [
       "[1,\n",
       " 'Blackpink',\n",
       " 9,\n",
       " 2.4,\n",
       " 'Ashiq',\n",
       " 'Arya Starc',\n",
       " 'Jhon Cena',\n",
       " [9, 10, 11],\n",
       " 9,\n",
       " 10,\n",
       " 11]"
      ]
     },
     "execution_count": 33,
     "metadata": {},
     "output_type": "execute_result"
    }
   ],
   "source": [
    "li"
   ]
  },
  {
   "cell_type": "markdown",
   "id": "46df040f",
   "metadata": {},
   "source": [
    "# Removing Elements From List"
   ]
  },
  {
   "cell_type": "code",
   "execution_count": 34,
   "id": "8bfb230a",
   "metadata": {},
   "outputs": [],
   "source": [
    "li.remove([9,10,11])"
   ]
  },
  {
   "cell_type": "code",
   "execution_count": 35,
   "id": "73ef4f1a",
   "metadata": {},
   "outputs": [
    {
     "data": {
      "text/plain": [
       "[1, 'Blackpink', 9, 2.4, 'Ashiq', 'Arya Starc', 'Jhon Cena', 9, 10, 11]"
      ]
     },
     "execution_count": 35,
     "metadata": {},
     "output_type": "execute_result"
    }
   ],
   "source": [
    "li"
   ]
  },
  {
   "cell_type": "code",
   "execution_count": 36,
   "id": "a790da9d",
   "metadata": {},
   "outputs": [
    {
     "data": {
      "text/plain": [
       "11"
      ]
     },
     "execution_count": 36,
     "metadata": {},
     "output_type": "execute_result"
    }
   ],
   "source": [
    "li.pop()"
   ]
  },
  {
   "cell_type": "code",
   "execution_count": 37,
   "id": "e47d1fa2",
   "metadata": {},
   "outputs": [
    {
     "data": {
      "text/plain": [
       "[1, 'Blackpink', 9, 2.4, 'Ashiq', 'Arya Starc', 'Jhon Cena', 9, 10]"
      ]
     },
     "execution_count": 37,
     "metadata": {},
     "output_type": "execute_result"
    }
   ],
   "source": [
    "li"
   ]
  },
  {
   "cell_type": "code",
   "execution_count": 38,
   "id": "48d18684",
   "metadata": {},
   "outputs": [
    {
     "ename": "IndexError",
     "evalue": "pop index out of range",
     "output_type": "error",
     "traceback": [
      "\u001b[1;31m---------------------------------------------------------------------------\u001b[0m",
      "\u001b[1;31mIndexError\u001b[0m                                Traceback (most recent call last)",
      "\u001b[1;32m~\\AppData\\Local\\Temp/ipykernel_4752/3167719967.py\u001b[0m in \u001b[0;36m<module>\u001b[1;34m\u001b[0m\n\u001b[1;32m----> 1\u001b[1;33m \u001b[0mli\u001b[0m\u001b[1;33m.\u001b[0m\u001b[0mpop\u001b[0m\u001b[1;33m(\u001b[0m\u001b[1;36m9\u001b[0m\u001b[1;33m)\u001b[0m\u001b[1;33m\u001b[0m\u001b[1;33m\u001b[0m\u001b[0m\n\u001b[0m",
      "\u001b[1;31mIndexError\u001b[0m: pop index out of range"
     ]
    }
   ],
   "source": [
    "li.pop(9)"
   ]
  },
  {
   "cell_type": "code",
   "execution_count": 39,
   "id": "51bf5ffc",
   "metadata": {},
   "outputs": [
    {
     "data": {
      "text/plain": [
       "9"
      ]
     },
     "execution_count": 39,
     "metadata": {},
     "output_type": "execute_result"
    }
   ],
   "source": [
    "li.pop(2)"
   ]
  },
  {
   "cell_type": "code",
   "execution_count": 40,
   "id": "82ce97fc",
   "metadata": {},
   "outputs": [
    {
     "data": {
      "text/plain": [
       "[1, 'Blackpink', 2.4, 'Ashiq', 'Arya Starc', 'Jhon Cena', 9, 10]"
      ]
     },
     "execution_count": 40,
     "metadata": {},
     "output_type": "execute_result"
    }
   ],
   "source": [
    "li"
   ]
  },
  {
   "cell_type": "markdown",
   "id": "ee992cdb",
   "metadata": {},
   "source": [
    "# Running Loop on the List"
   ]
  },
  {
   "cell_type": "code",
   "execution_count": 41,
   "id": "35ba0b5a",
   "metadata": {},
   "outputs": [
    {
     "name": "stdout",
     "output_type": "stream",
     "text": [
      "1\n",
      "Blackpink\n",
      "2.4\n",
      "Ashiq\n",
      "Arya Starc\n",
      "Jhon Cena\n",
      "9\n",
      "10\n"
     ]
    }
   ],
   "source": [
    "for i in range(len(li)):\n",
    "    print(li[i])"
   ]
  },
  {
   "cell_type": "code",
   "execution_count": 42,
   "id": "9f278597",
   "metadata": {},
   "outputs": [
    {
     "name": "stdout",
     "output_type": "stream",
     "text": [
      "2.4\n",
      "Ashiq\n",
      "Arya Starc\n",
      "Jhon Cena\n",
      "9\n",
      "10\n"
     ]
    }
   ],
   "source": [
    "for i in range(2, len(li)):\n",
    "    print(li[i])"
   ]
  },
  {
   "cell_type": "code",
   "execution_count": 43,
   "id": "10242c77",
   "metadata": {},
   "outputs": [
    {
     "name": "stdout",
     "output_type": "stream",
     "text": [
      "1\n",
      "Blackpink\n",
      "2.4\n",
      "Ashiq\n",
      "Arya Starc\n",
      "Jhon Cena\n",
      "9\n",
      "10\n"
     ]
    }
   ],
   "source": [
    "for ele in li:\n",
    "    print(ele)"
   ]
  },
  {
   "cell_type": "code",
   "execution_count": 44,
   "id": "d4e40ed7",
   "metadata": {},
   "outputs": [
    {
     "name": "stdout",
     "output_type": "stream",
     "text": [
      "Ashiq\n",
      "Arya Starc\n",
      "Jhon Cena\n",
      "9\n",
      "10\n"
     ]
    }
   ],
   "source": [
    "for ele in li[3:]:\n",
    "    print(ele)"
   ]
  },
  {
   "cell_type": "markdown",
   "id": "a7a80913",
   "metadata": {},
   "source": [
    "# Negative Indexing and Sequencing in List"
   ]
  },
  {
   "cell_type": "code",
   "execution_count": 45,
   "id": "0d3bcc5e",
   "metadata": {},
   "outputs": [
    {
     "data": {
      "text/plain": [
       "10"
      ]
     },
     "execution_count": 45,
     "metadata": {},
     "output_type": "execute_result"
    }
   ],
   "source": [
    "li[-1]"
   ]
  },
  {
   "cell_type": "code",
   "execution_count": 46,
   "id": "cc800d42",
   "metadata": {},
   "outputs": [
    {
     "data": {
      "text/plain": [
       "[1, 'Blackpink', 2.4, 'Ashiq', 'Arya Starc', 'Jhon Cena', 9, 10]"
      ]
     },
     "execution_count": 46,
     "metadata": {},
     "output_type": "execute_result"
    }
   ],
   "source": [
    "li"
   ]
  },
  {
   "cell_type": "code",
   "execution_count": 47,
   "id": "62c88ab7",
   "metadata": {},
   "outputs": [
    {
     "data": {
      "text/plain": [
       "'Jhon Cena'"
      ]
     },
     "execution_count": 47,
     "metadata": {},
     "output_type": "execute_result"
    }
   ],
   "source": [
    "li[-3]"
   ]
  },
  {
   "cell_type": "code",
   "execution_count": 48,
   "id": "834ab3f7",
   "metadata": {},
   "outputs": [
    {
     "data": {
      "text/plain": [
       "['Blackpink', 2.4, 'Ashiq', 'Arya Starc']"
      ]
     },
     "execution_count": 48,
     "metadata": {},
     "output_type": "execute_result"
    }
   ],
   "source": [
    "li[1: 5: 1]"
   ]
  },
  {
   "cell_type": "code",
   "execution_count": 49,
   "id": "40f7f044",
   "metadata": {},
   "outputs": [
    {
     "data": {
      "text/plain": [
       "['Blackpink', 'Ashiq']"
      ]
     },
     "execution_count": 49,
     "metadata": {},
     "output_type": "execute_result"
    }
   ],
   "source": [
    "li[1:5:2]"
   ]
  },
  {
   "cell_type": "code",
   "execution_count": 50,
   "id": "1d35647f",
   "metadata": {},
   "outputs": [
    {
     "data": {
      "text/plain": [
       "[1, 2.4, 'Arya Starc', 9]"
      ]
     },
     "execution_count": 50,
     "metadata": {},
     "output_type": "execute_result"
    }
   ],
   "source": [
    "li[0:8:2]"
   ]
  },
  {
   "cell_type": "code",
   "execution_count": 51,
   "id": "326cd9da",
   "metadata": {},
   "outputs": [
    {
     "data": {
      "text/plain": [
       "['Blackpink', 9]"
      ]
     },
     "execution_count": 51,
     "metadata": {},
     "output_type": "execute_result"
    }
   ],
   "source": [
    "li[1::5]"
   ]
  },
  {
   "cell_type": "code",
   "execution_count": 52,
   "id": "1d89b011",
   "metadata": {},
   "outputs": [
    {
     "data": {
      "text/plain": [
       "[1, 'Blackpink', 2.4]"
      ]
     },
     "execution_count": 52,
     "metadata": {},
     "output_type": "execute_result"
    }
   ],
   "source": [
    "li[:3]"
   ]
  },
  {
   "cell_type": "code",
   "execution_count": 53,
   "id": "581991e6",
   "metadata": {},
   "outputs": [
    {
     "data": {
      "text/plain": [
       "[10]"
      ]
     },
     "execution_count": 53,
     "metadata": {},
     "output_type": "execute_result"
    }
   ],
   "source": [
    "li[-1:]"
   ]
  },
  {
   "cell_type": "markdown",
   "id": "8487d24c",
   "metadata": {},
   "source": [
    "# Taking Input in a List"
   ]
  },
  {
   "cell_type": "code",
   "execution_count": 54,
   "id": "c8f9f9f5",
   "metadata": {},
   "outputs": [
    {
     "name": "stdout",
     "output_type": "stream",
     "text": [
      "5\n"
     ]
    }
   ],
   "source": [
    "n = input()"
   ]
  },
  {
   "cell_type": "code",
   "execution_count": 55,
   "id": "ce55589e",
   "metadata": {},
   "outputs": [
    {
     "data": {
      "text/plain": [
       "'5'"
      ]
     },
     "execution_count": 55,
     "metadata": {},
     "output_type": "execute_result"
    }
   ],
   "source": [
    "n"
   ]
  },
  {
   "cell_type": "code",
   "execution_count": 56,
   "id": "e764049c",
   "metadata": {},
   "outputs": [
    {
     "name": "stdout",
     "output_type": "stream",
     "text": [
      "5\n"
     ]
    }
   ],
   "source": [
    "n = int(input())"
   ]
  },
  {
   "cell_type": "code",
   "execution_count": 57,
   "id": "6cd9b218",
   "metadata": {},
   "outputs": [
    {
     "data": {
      "text/plain": [
       "5"
      ]
     },
     "execution_count": 57,
     "metadata": {},
     "output_type": "execute_result"
    }
   ],
   "source": [
    "5"
   ]
  },
  {
   "cell_type": "code",
   "execution_count": 58,
   "id": "682ddf3e",
   "metadata": {},
   "outputs": [
    {
     "name": "stdout",
     "output_type": "stream",
     "text": [
      "2\n",
      "3\n",
      "5\n",
      "7\n",
      "9\n"
     ]
    }
   ],
   "source": [
    "li = []\n",
    "for i in range(n):\n",
    "    curr = int(input())\n",
    "    li.append(curr)"
   ]
  },
  {
   "cell_type": "code",
   "execution_count": 59,
   "id": "be69fabd",
   "metadata": {},
   "outputs": [
    {
     "data": {
      "text/plain": [
       "[2, 3, 5, 7, 9]"
      ]
     },
     "execution_count": 59,
     "metadata": {},
     "output_type": "execute_result"
    }
   ],
   "source": [
    "li"
   ]
  },
  {
   "cell_type": "code",
   "execution_count": 60,
   "id": "19168f95",
   "metadata": {},
   "outputs": [
    {
     "name": "stdout",
     "output_type": "stream",
     "text": [
      "2\n",
      "3\n",
      "5\n",
      "7\n",
      "9\n"
     ]
    }
   ],
   "source": [
    "for ele in li:\n",
    "    print(ele)"
   ]
  },
  {
   "cell_type": "code",
   "execution_count": 61,
   "id": "fd148fa2",
   "metadata": {},
   "outputs": [
    {
     "name": "stdout",
     "output_type": "stream",
     "text": [
      "1 2 3 4 5\n"
     ]
    }
   ],
   "source": [
    "str = input()"
   ]
  },
  {
   "cell_type": "code",
   "execution_count": 62,
   "id": "7dc92fe5",
   "metadata": {},
   "outputs": [
    {
     "data": {
      "text/plain": [
       "'1 2 3 4 5'"
      ]
     },
     "execution_count": 62,
     "metadata": {},
     "output_type": "execute_result"
    }
   ],
   "source": [
    "str"
   ]
  },
  {
   "cell_type": "code",
   "execution_count": 63,
   "id": "1e068cd1",
   "metadata": {},
   "outputs": [],
   "source": [
    "str_split = str.split(' ')"
   ]
  },
  {
   "cell_type": "code",
   "execution_count": 64,
   "id": "7cead8ed",
   "metadata": {},
   "outputs": [
    {
     "data": {
      "text/plain": [
       "['1', '2', '3', '4', '5']"
      ]
     },
     "execution_count": 64,
     "metadata": {},
     "output_type": "execute_result"
    }
   ],
   "source": [
    "str_split"
   ]
  },
  {
   "cell_type": "code",
   "execution_count": 65,
   "id": "6a9af0ef",
   "metadata": {},
   "outputs": [],
   "source": [
    "for ele in str_split:\n",
    "    li.append(int(ele))"
   ]
  },
  {
   "cell_type": "code",
   "execution_count": 66,
   "id": "4cfc9546",
   "metadata": {},
   "outputs": [
    {
     "data": {
      "text/plain": [
       "[2, 3, 5, 7, 9, 1, 2, 3, 4, 5]"
      ]
     },
     "execution_count": 66,
     "metadata": {},
     "output_type": "execute_result"
    }
   ],
   "source": [
    "li"
   ]
  },
  {
   "cell_type": "code",
   "execution_count": 69,
   "id": "d462248f",
   "metadata": {},
   "outputs": [
    {
     "name": "stdout",
     "output_type": "stream",
     "text": [
      "1 2 3 4 5\n"
     ]
    }
   ],
   "source": [
    "li = [int(x) for x in input().split()]"
   ]
  },
  {
   "cell_type": "code",
   "execution_count": 70,
   "id": "22984b36",
   "metadata": {},
   "outputs": [
    {
     "data": {
      "text/plain": [
       "[1, 2, 3, 4, 5]"
      ]
     },
     "execution_count": 70,
     "metadata": {},
     "output_type": "execute_result"
    }
   ],
   "source": [
    "li"
   ]
  },
  {
   "cell_type": "markdown",
   "id": "e104d4e1",
   "metadata": {},
   "source": [
    "# Linear Search"
   ]
  },
  {
   "cell_type": "code",
   "execution_count": 71,
   "id": "4dc58280",
   "metadata": {},
   "outputs": [
    {
     "name": "stdout",
     "output_type": "stream",
     "text": [
      "5\n"
     ]
    }
   ],
   "source": [
    "n = int(input())"
   ]
  },
  {
   "cell_type": "code",
   "execution_count": 72,
   "id": "062a2ad8",
   "metadata": {},
   "outputs": [
    {
     "name": "stdout",
     "output_type": "stream",
     "text": [
      "9 2 5 0 1 8\n"
     ]
    }
   ],
   "source": [
    "li = [int(x) for x in input().split()]"
   ]
  },
  {
   "cell_type": "code",
   "execution_count": 74,
   "id": "32768bc3",
   "metadata": {},
   "outputs": [
    {
     "data": {
      "text/plain": [
       "[9, 2, 5, 0, 1, 8]"
      ]
     },
     "execution_count": 74,
     "metadata": {},
     "output_type": "execute_result"
    }
   ],
   "source": [
    "li"
   ]
  },
  {
   "cell_type": "code",
   "execution_count": 75,
   "id": "89ea82e3",
   "metadata": {},
   "outputs": [],
   "source": [
    "s_value = 1"
   ]
  },
  {
   "cell_type": "code",
   "execution_count": 77,
   "id": "ee98b1d8",
   "metadata": {
    "scrolled": true
   },
   "outputs": [
    {
     "name": "stdout",
     "output_type": "stream",
     "text": [
      "4\n"
     ]
    }
   ],
   "source": [
    "is_found = False\n",
    "for i in range(len(li)):\n",
    "    if li[i] == s_value:\n",
    "        print(i)\n",
    "        is_found = True\n",
    "        break\n",
    "\n",
    "if is_found is False:\n",
    "    print(-1)"
   ]
  },
  {
   "cell_type": "code",
   "execution_count": 78,
   "id": "dbc6c45d",
   "metadata": {},
   "outputs": [],
   "source": [
    "s_value = 3"
   ]
  },
  {
   "cell_type": "code",
   "execution_count": 79,
   "id": "4d60f67a",
   "metadata": {},
   "outputs": [
    {
     "name": "stdout",
     "output_type": "stream",
     "text": [
      "-1\n"
     ]
    }
   ],
   "source": [
    "is_found = False\n",
    "for i in range(len(li)):\n",
    "    if li[i] == s_value:\n",
    "        print(i)\n",
    "        is_found = True\n",
    "        break\n",
    "\n",
    "if is_found is False:\n",
    "    print(-1)"
   ]
  },
  {
   "cell_type": "code",
   "execution_count": 81,
   "id": "e7f2978e",
   "metadata": {},
   "outputs": [],
   "source": [
    "def linear_search(li, s_value):\n",
    "    for i in range(len(li)):\n",
    "        if li[i] == s_value:\n",
    "            return i\n",
    "        \n",
    "    return -1"
   ]
  },
  {
   "cell_type": "code",
   "execution_count": 82,
   "id": "ce859dac",
   "metadata": {},
   "outputs": [],
   "source": [
    "index = linear_search(li, 8)"
   ]
  },
  {
   "cell_type": "code",
   "execution_count": 83,
   "id": "0a000805",
   "metadata": {},
   "outputs": [
    {
     "name": "stdout",
     "output_type": "stream",
     "text": [
      "5\n"
     ]
    }
   ],
   "source": [
    "print(index)"
   ]
  },
  {
   "cell_type": "code",
   "execution_count": 85,
   "id": "b5bdb047",
   "metadata": {},
   "outputs": [],
   "source": [
    "def reverse_list(li):\n",
    "    length = len(li)\n",
    "    for i in range(length //2):\n",
    "        li[i], li[-i-1] = li[-i-1], li[i]"
   ]
  },
  {
   "cell_type": "code",
   "execution_count": 86,
   "id": "0aeeb332",
   "metadata": {},
   "outputs": [
    {
     "data": {
      "text/plain": [
       "[8, 1, 0, 5, 2, 9]"
      ]
     },
     "execution_count": 86,
     "metadata": {},
     "output_type": "execute_result"
    }
   ],
   "source": [
    "reverse_list(li)\n",
    "li"
   ]
  },
  {
   "cell_type": "code",
   "execution_count": null,
   "id": "a09c1834",
   "metadata": {},
   "outputs": [],
   "source": []
  }
 ],
 "metadata": {
  "kernelspec": {
   "display_name": "Python 3 (ipykernel)",
   "language": "python",
   "name": "python3"
  },
  "language_info": {
   "codemirror_mode": {
    "name": "ipython",
    "version": 3
   },
   "file_extension": ".py",
   "mimetype": "text/x-python",
   "name": "python",
   "nbconvert_exporter": "python",
   "pygments_lexer": "ipython3",
   "version": "3.9.7"
  }
 },
 "nbformat": 4,
 "nbformat_minor": 5
}
